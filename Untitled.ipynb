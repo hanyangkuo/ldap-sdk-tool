{
 "cells": [
  {
   "cell_type": "code",
   "execution_count": 1,
   "id": "b6cf1cac",
   "metadata": {},
   "outputs": [],
   "source": [
    "from ldap3 import Server, Connection, SUBTREE"
   ]
  },
  {
   "cell_type": "code",
   "execution_count": 4,
   "metadata": {},
   "outputs": [
    {
     "name": "stdout",
     "output_type": "stream",
     "text": [
      "DN: dc=example,dc=com - STATUS: Read - READ TIME: 2023-11-17T00:13:56.834654\n",
      "\n",
      "Common Name: None\n",
      "DN: ou=users,dc=example,dc=com - STATUS: Read - READ TIME: 2023-11-17T00:13:56.835161\n",
      "\n",
      "Common Name: None\n",
      "DN: cn=user04,ou=users,dc=example,dc=com - STATUS: Read - READ TIME: 2023-11-17T00:13:56.835161\n",
      "    cn: User1\n",
      "        user04\n",
      "\n",
      "Common Name: ['User1', 'user04']\n",
      "DN: cn=user02,ou=users,dc=example,dc=com - STATUS: Read - READ TIME: 2023-11-17T00:13:56.835161\n",
      "    cn: User2\n",
      "        user02\n",
      "\n",
      "Common Name: ['User2', 'user02']\n",
      "DN: cn=user03,ou=users,dc=example,dc=com - STATUS: Read - READ TIME: 2023-11-17T00:13:56.835161\n",
      "    cn: User3\n",
      "        user03\n",
      "\n",
      "Common Name: ['User3', 'user03']\n",
      "DN: cn=readers,ou=users,dc=example,dc=com - STATUS: Read - READ TIME: 2023-11-17T00:13:56.835161\n",
      "    cn: readers\n",
      "\n",
      "Common Name: readers\n"
     ]
    }
   ],
   "source": [
    "\n",
    "\n",
    "# LDAP server details\n",
    "ldap_server = 'ldap://localhost'\n",
    "ldap_user = 'cn=admin,dc=example,dc=com'  # Replace with your LDAP admin username\n",
    "ldap_password = 'adminpassword'  # Replace with your LDAP admin password\n",
    "ldap_base = 'dc=example,dc=com'  # Replace with your LDAP base\n",
    "\n",
    "# Establish connection\n",
    "server = Server(ldap_server)\n",
    "conn = Connection(server, user=ldap_user, password=ldap_password, auto_bind=True)\n",
    "\n",
    "# Search for entries\n",
    "search_filter = '(objectClass=*)'  # Modify the filter as needed\n",
    "conn.search(ldap_base, search_filter, attributes=['cn'], search_scope=SUBTREE)\n",
    "\n",
    "# Access fetched entries\n",
    "if conn.entries:\n",
    "    for entry in conn.entries:\n",
    "        print(entry)\n",
    "        if 'cn' in entry:\n",
    "            common_name = entry.cn.value\n",
    "            print(f\"Common Name: {common_name}\")"
   ]
  },
  {
   "cell_type": "code",
   "execution_count": null,
   "metadata": {},
   "outputs": [],
   "source": []
  }
 ],
 "metadata": {
  "kernelspec": {
   "display_name": "Python 3 (ipykernel)",
   "language": "python",
   "name": "python3"
  },
  "language_info": {
   "codemirror_mode": {
    "name": "ipython",
    "version": 3
   },
   "file_extension": ".py",
   "mimetype": "text/x-python",
   "name": "python",
   "nbconvert_exporter": "python",
   "pygments_lexer": "ipython3",
   "version": "3.11.1"
  }
 },
 "nbformat": 4,
 "nbformat_minor": 5
}
